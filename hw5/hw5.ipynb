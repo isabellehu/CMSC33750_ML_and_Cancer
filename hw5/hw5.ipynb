{
 "cells": [
  {
   "cell_type": "code",
   "execution_count": 1,
   "metadata": {},
   "outputs": [],
   "source": [
    "import numpy as np\n",
    "import pandas as pd\n",
    "from sklearn.linear_model import LinearRegression\n",
    "from sklearn.model_selection import train_test_split\n",
    "%matplotlib inline"
   ]
  },
  {
   "cell_type": "markdown",
   "metadata": {},
   "source": [
    "First, we load the colorectal cancer incidence data and the income data, both by county.\n",
    "Then we merge the two data files on the `FIPS` code that uniquely defines counties.\n",
    "The `Value (Dollars)` columns is the explanatory variable (income), and the `Age-Adjusted Incidence Rate - cases per 100,000` column is the target variable.\n",
    "We drop any samples with missing information in either the feature or the target variable.\n",
    "The scatter plot below visualizes the relationship between cancer incidence and income. There appears to be a slight, negative correlation."
   ]
  },
  {
   "cell_type": "code",
   "execution_count": 2,
   "metadata": {},
   "outputs": [
    {
     "data": {
      "text/plain": [
       "<matplotlib.axes._subplots.AxesSubplot at 0x7f84a7438d30>"
      ]
     },
     "execution_count": 2,
     "metadata": {},
     "output_type": "execute_result"
    },
    {
     "data": {
      "image/png": "[encoded data removed]",
      "text/plain": [
       "<Figure size 432x288 with 1 Axes>"
      ]
     },
     "metadata": {
      "needs_background": "light"
     },
     "output_type": "display_data"
    }
   ],
   "source": [
    "# load cancer incidence and income by county data files (remove first row for US)\n",
    "incidence = pd.read_csv(\"incidence.tsv\", sep='\\t').iloc[1:,:]\n",
    "income = pd.read_csv(\"income.csv\").iloc[1:,:].dropna()\n",
    "\n",
    "# merge two files\n",
    "df = incidence.set_index('FIPS').join(income.set_index('FIPS'), how='inner').reset_index()\n",
    "\n",
    "# convert cancer incidence and income variables to numeric, and drop rows with missing values\n",
    "df['Value (Dollars)'] = df['Value (Dollars)'].astype('int')\n",
    "df['Age-Adjusted Incidence Rate - cases per 100,000'] = pd.to_numeric(df['Age-Adjusted Incidence Rate - cases per 100,000'], errors='coerce')\n",
    "df.dropna(inplace=True)\n",
    "\n",
    "df.plot(x='Value (Dollars)', y='Age-Adjusted Incidence Rate - cases per 100,000', kind='scatter')"
   ]
  },
  {
   "cell_type": "markdown",
   "metadata": {},
   "source": [
    "Define a function that splits the input data into 80%/20% training/test sets, creates and fits a linear regression model on the training data, and evaluating on the test data. The model is evaluate using the R-squared score, the residual sum of squares (RSS) and mean squared errror (MSE). The model coeffiecient is also printed out."
   ]
  },
  {
   "cell_type": "code",
   "execution_count": 3,
   "metadata": {},
   "outputs": [],
   "source": [
    "def model_lr(X, y):\n",
    "    # split into train/test sets\n",
    "    X_train, X_test, y_train, y_test = train_test_split(X, y, test_size=0.2, random_state=6)\n",
    "    \n",
    "    # Create and train the model using our training data\n",
    "    model = LinearRegression().fit(X_train, y_train)\n",
    "    \n",
    "    # view the training model's coefficient\n",
    "    print(\"model coefficient: {coef}\".format(coef=model.coef_))\n",
    "    \n",
    "    # view the R-squared score\n",
    "    print(\"R^2: {r2}\".format(r2=model.score(X_test, y_test)))\n",
    "    \n",
    "    # calcualte the residual sum of squares (RSS) and mean squared errror (MSE) on test data\n",
    "    rss = ((y_test - model.predict(X_test)) **2).sum()\n",
    "    print(\"RSS: {RSS}\".format(RSS=rss))\n",
    "    mse = np.mean((model.predict(X_test) - y_test) **2)\n",
    "    print(\"MSE: {MSE}\".format(MSE=mse))"
   ]
  },
  {
   "cell_type": "markdown",
   "metadata": {},
   "source": [
    "First fit a linear regression model on the raw data (without any transformation). Then apply log transformation on either the feature or the target variable, and inverse transformation on feature (based on observation from the scatter plot above), and re-fit linear regression models. Compare their performances."
   ]
  },
  {
   "cell_type": "code",
   "execution_count": 4,
   "metadata": {},
   "outputs": [
    {
     "name": "stdout",
     "output_type": "stream",
     "text": [
      "model coefficient: [-0.0002085]\n",
      "R^2: 0.12694842765157155\n",
      "RSS: 41668.23131731323\n",
      "MSE: 78.76792309511008\n",
      "\n",
      "Log transformation on X\n",
      "model coefficient: [-14.74669575]\n",
      "R^2: 0.13227848031917233\n",
      "RSS: 41413.843289708355\n",
      "MSE: 78.28703835483621\n",
      "\n",
      "Log transformation on y\n",
      "model coefficient: [-4.88360849e-06]\n",
      "R^2: 0.1314712701698123\n",
      "RSS: 21.17632296175374\n",
      "MSE: 0.04003085626040405\n",
      "\n",
      "Inverse transformation on X\n",
      "model coefficient: [891040.76283182]\n",
      "R^2: 0.125086927287967\n",
      "RSS: 41757.07535609011\n",
      "MSE: 78.93587023835559\n"
     ]
    }
   ],
   "source": [
    "# LR model without variable transformation\n",
    "model_lr(df['Value (Dollars)'].values.reshape(-1,1), df['Age-Adjusted Incidence Rate - cases per 100,000'].values)\n",
    "\n",
    "# apply log transformation to feature, and refit model\n",
    "print(\"\\n\"+\"Log transformation on X\")\n",
    "model_lr(np.log(df['Value (Dollars)'].values.reshape(-1,1)), df['Age-Adjusted Incidence Rate - cases per 100,000'].values)\n",
    "\n",
    "# apply log transformation to target variable, and refit model\n",
    "print(\"\\n\"+\"Log transformation on y\")\n",
    "model_lr(df['Value (Dollars)'].values.reshape(-1,1), np.log(df['Age-Adjusted Incidence Rate - cases per 100,000'].values))\n",
    "\n",
    "# apply 1/X transform on feature\n",
    "print(\"\\n\"+\"Inverse transformation on X\")\n",
    "model_lr(1/df['Value (Dollars)'].values.reshape(-1,1), df['Age-Adjusted Incidence Rate - cases per 100,000'].values)"
   ]
  },
  {
   "cell_type": "markdown",
   "metadata": {},
   "source": [
    "#### Result interpretation: \n",
    "All three models exhibit a mild relationship between the colorectal cancer incidence and family income level, with only ~13% of the variation of outcomes explained by the models. The logarithm transformations slightly improved the goodness of fit of the model."
   ]
  }
 ],
 "metadata": {
  "kernelspec": {
   "display_name": "Python 3",
   "language": "python",
   "name": "python3"
  },
  "language_info": {
   "codemirror_mode": {
    "name": "ipython",
    "version": 3
   },
   "file_extension": ".py",
   "mimetype": "text/x-python",
   "name": "python",
   "nbconvert_exporter": "python",
   "pygments_lexer": "ipython3",
   "version": "3.7.2"
  }
 },
 "nbformat": 4,
 "nbformat_minor": 4
}
